{
  "nbformat": 4,
  "nbformat_minor": 0,
  "metadata": {
    "colab": {
      "name": "Mudaser Ali Portfolio Optimisation .ipynb",
      "provenance": []
    },
    "kernelspec": {
      "name": "python3",
      "display_name": "Python 3"
    }
  },
  "cells": [
    {
      "cell_type": "markdown",
      "metadata": {
        "id": "D95CViH7T81I",
        "colab_type": "text"
      },
      "source": [
        "# **The following code may be used to generate an efficient frontier for a portfolio of stocks. **"
      ]
    },
    {
      "cell_type": "code",
      "metadata": {
        "id": "TG6Bqca6UVzO",
        "colab_type": "code",
        "colab": {
          "base_uri": "https://localhost:8080/",
          "height": 71
        },
        "outputId": "3c8f764c-2ccd-4039-a545-cc8eee378dee"
      },
      "source": [
        "#Step 1 - import relevant libraries and modules\n",
        "import numpy as np\n",
        "import pandas as pd\n",
        "import matplotlib.pyplot as plt\n",
        "from pandas_datareader import data as source"
      ],
      "execution_count": null,
      "outputs": [
        {
          "output_type": "stream",
          "text": [
            "/usr/local/lib/python3.6/dist-packages/pandas_datareader/compat/__init__.py:7: FutureWarning: pandas.util.testing is deprecated. Use the functions in the public API at pandas.testing instead.\n",
            "  from pandas.util.testing import assert_frame_equal\n"
          ],
          "name": "stderr"
        }
      ]
    },
    {
      "cell_type": "code",
      "metadata": {
        "id": "qFy8hfniUtXX",
        "colab_type": "code",
        "colab": {}
      },
      "source": [
        "#Step 2 - Create a list of stocks and collect real time data of the adjusted close values for the stocks.\n",
        "  #The stocks in the list can be changed using different tickers. \n",
        "  #The start date will be chosen to take 5-6 years' worth of data, this can be changed.\n",
        "stocks = ['AAPL', 'AMZN']\n",
        "adjclose_data = pd.DataFrame()\n",
        "for s in stocks:\n",
        "  adjclose_data[s] = source.DataReader(s, data_source = 'yahoo', start = '2015-1-1')['Adj Close']"
      ],
      "execution_count": null,
      "outputs": []
    },
    {
      "cell_type": "code",
      "metadata": {
        "id": "mt1aqfkAVt5i",
        "colab_type": "code",
        "colab": {
          "base_uri": "https://localhost:8080/",
          "height": 450
        },
        "outputId": "9378cb82-af5f-4fd6-dbc9-4e0386d88e1a"
      },
      "source": [
        "#CHECK - view the data\n",
        "adjclose_data"
      ],
      "execution_count": null,
      "outputs": [
        {
          "output_type": "execute_result",
          "data": {
            "text/html": [
              "<div>\n",
              "<style scoped>\n",
              "    .dataframe tbody tr th:only-of-type {\n",
              "        vertical-align: middle;\n",
              "    }\n",
              "\n",
              "    .dataframe tbody tr th {\n",
              "        vertical-align: top;\n",
              "    }\n",
              "\n",
              "    .dataframe thead th {\n",
              "        text-align: right;\n",
              "    }\n",
              "</style>\n",
              "<table border=\"1\" class=\"dataframe\">\n",
              "  <thead>\n",
              "    <tr style=\"text-align: right;\">\n",
              "      <th></th>\n",
              "      <th>AAPL</th>\n",
              "      <th>AMZN</th>\n",
              "    </tr>\n",
              "    <tr>\n",
              "      <th>Date</th>\n",
              "      <th></th>\n",
              "      <th></th>\n",
              "    </tr>\n",
              "  </thead>\n",
              "  <tbody>\n",
              "    <tr>\n",
              "      <th>2015-01-02</th>\n",
              "      <td>99.945885</td>\n",
              "      <td>308.519989</td>\n",
              "    </tr>\n",
              "    <tr>\n",
              "      <th>2015-01-05</th>\n",
              "      <td>97.130241</td>\n",
              "      <td>302.190002</td>\n",
              "    </tr>\n",
              "    <tr>\n",
              "      <th>2015-01-06</th>\n",
              "      <td>97.139420</td>\n",
              "      <td>295.290009</td>\n",
              "    </tr>\n",
              "    <tr>\n",
              "      <th>2015-01-07</th>\n",
              "      <td>98.501518</td>\n",
              "      <td>298.420013</td>\n",
              "    </tr>\n",
              "    <tr>\n",
              "      <th>2015-01-08</th>\n",
              "      <td>102.286186</td>\n",
              "      <td>300.459991</td>\n",
              "    </tr>\n",
              "    <tr>\n",
              "      <th>...</th>\n",
              "      <td>...</td>\n",
              "      <td>...</td>\n",
              "    </tr>\n",
              "    <tr>\n",
              "      <th>2020-07-17</th>\n",
              "      <td>385.309998</td>\n",
              "      <td>2961.969971</td>\n",
              "    </tr>\n",
              "    <tr>\n",
              "      <th>2020-07-20</th>\n",
              "      <td>393.429993</td>\n",
              "      <td>3196.840088</td>\n",
              "    </tr>\n",
              "    <tr>\n",
              "      <th>2020-07-21</th>\n",
              "      <td>388.000000</td>\n",
              "      <td>3138.290039</td>\n",
              "    </tr>\n",
              "    <tr>\n",
              "      <th>2020-07-22</th>\n",
              "      <td>389.089996</td>\n",
              "      <td>3099.909912</td>\n",
              "    </tr>\n",
              "    <tr>\n",
              "      <th>2020-07-23</th>\n",
              "      <td>371.380005</td>\n",
              "      <td>2986.550049</td>\n",
              "    </tr>\n",
              "  </tbody>\n",
              "</table>\n",
              "<p>1399 rows × 2 columns</p>\n",
              "</div>"
            ],
            "text/plain": [
              "                  AAPL         AMZN\n",
              "Date                               \n",
              "2015-01-02   99.945885   308.519989\n",
              "2015-01-05   97.130241   302.190002\n",
              "2015-01-06   97.139420   295.290009\n",
              "2015-01-07   98.501518   298.420013\n",
              "2015-01-08  102.286186   300.459991\n",
              "...                ...          ...\n",
              "2020-07-17  385.309998  2961.969971\n",
              "2020-07-20  393.429993  3196.840088\n",
              "2020-07-21  388.000000  3138.290039\n",
              "2020-07-22  389.089996  3099.909912\n",
              "2020-07-23  371.380005  2986.550049\n",
              "\n",
              "[1399 rows x 2 columns]"
            ]
          },
          "metadata": {
            "tags": []
          },
          "execution_count": 3
        }
      ]
    },
    {
      "cell_type": "code",
      "metadata": {
        "id": "LgzLCciCV3hu",
        "colab_type": "code",
        "colab": {
          "base_uri": "https://localhost:8080/",
          "height": 170
        },
        "outputId": "72294408-30ce-4618-c3fa-98c49b3e0a26"
      },
      "source": [
        "#CHECK - Get an overview of the data to ensure that there are no missing values\n",
        "  #The number of 'non-null' values should be equal for each stock.\n",
        "adjclose_data.info()"
      ],
      "execution_count": null,
      "outputs": [
        {
          "output_type": "stream",
          "text": [
            "<class 'pandas.core.frame.DataFrame'>\n",
            "DatetimeIndex: 1399 entries, 2015-01-02 to 2020-07-23\n",
            "Data columns (total 2 columns):\n",
            " #   Column  Non-Null Count  Dtype  \n",
            "---  ------  --------------  -----  \n",
            " 0   AAPL    1399 non-null   float64\n",
            " 1   AMZN    1399 non-null   float64\n",
            "dtypes: float64(2)\n",
            "memory usage: 32.8 KB\n"
          ],
          "name": "stdout"
        }
      ]
    },
    {
      "cell_type": "code",
      "metadata": {
        "id": "cK-CB-cGWN9h",
        "colab_type": "code",
        "colab": {
          "base_uri": "https://localhost:8080/",
          "height": 450
        },
        "outputId": "05bf99e1-0809-4e87-86c2-b508073dd5a8"
      },
      "source": [
        "#Step 3 - Calculate the daily return rate\n",
        "return_daily = np.log(adjclose_data/adjclose_data.shift(1))\n",
        "return_daily"
      ],
      "execution_count": null,
      "outputs": [
        {
          "output_type": "execute_result",
          "data": {
            "text/html": [
              "<div>\n",
              "<style scoped>\n",
              "    .dataframe tbody tr th:only-of-type {\n",
              "        vertical-align: middle;\n",
              "    }\n",
              "\n",
              "    .dataframe tbody tr th {\n",
              "        vertical-align: top;\n",
              "    }\n",
              "\n",
              "    .dataframe thead th {\n",
              "        text-align: right;\n",
              "    }\n",
              "</style>\n",
              "<table border=\"1\" class=\"dataframe\">\n",
              "  <thead>\n",
              "    <tr style=\"text-align: right;\">\n",
              "      <th></th>\n",
              "      <th>AAPL</th>\n",
              "      <th>AMZN</th>\n",
              "    </tr>\n",
              "    <tr>\n",
              "      <th>Date</th>\n",
              "      <th></th>\n",
              "      <th></th>\n",
              "    </tr>\n",
              "  </thead>\n",
              "  <tbody>\n",
              "    <tr>\n",
              "      <th>2015-01-02</th>\n",
              "      <td>NaN</td>\n",
              "      <td>NaN</td>\n",
              "    </tr>\n",
              "    <tr>\n",
              "      <th>2015-01-05</th>\n",
              "      <td>-0.028576</td>\n",
              "      <td>-0.020731</td>\n",
              "    </tr>\n",
              "    <tr>\n",
              "      <th>2015-01-06</th>\n",
              "      <td>0.000094</td>\n",
              "      <td>-0.023098</td>\n",
              "    </tr>\n",
              "    <tr>\n",
              "      <th>2015-01-07</th>\n",
              "      <td>0.013925</td>\n",
              "      <td>0.010544</td>\n",
              "    </tr>\n",
              "    <tr>\n",
              "      <th>2015-01-08</th>\n",
              "      <td>0.037703</td>\n",
              "      <td>0.006813</td>\n",
              "    </tr>\n",
              "    <tr>\n",
              "      <th>...</th>\n",
              "      <td>...</td>\n",
              "      <td>...</td>\n",
              "    </tr>\n",
              "    <tr>\n",
              "      <th>2020-07-17</th>\n",
              "      <td>-0.002022</td>\n",
              "      <td>-0.012724</td>\n",
              "    </tr>\n",
              "    <tr>\n",
              "      <th>2020-07-20</th>\n",
              "      <td>0.020855</td>\n",
              "      <td>0.076308</td>\n",
              "    </tr>\n",
              "    <tr>\n",
              "      <th>2020-07-21</th>\n",
              "      <td>-0.013898</td>\n",
              "      <td>-0.018485</td>\n",
              "    </tr>\n",
              "    <tr>\n",
              "      <th>2020-07-22</th>\n",
              "      <td>0.002805</td>\n",
              "      <td>-0.012305</td>\n",
              "    </tr>\n",
              "    <tr>\n",
              "      <th>2020-07-23</th>\n",
              "      <td>-0.046585</td>\n",
              "      <td>-0.037254</td>\n",
              "    </tr>\n",
              "  </tbody>\n",
              "</table>\n",
              "<p>1399 rows × 2 columns</p>\n",
              "</div>"
            ],
            "text/plain": [
              "                AAPL      AMZN\n",
              "Date                          \n",
              "2015-01-02       NaN       NaN\n",
              "2015-01-05 -0.028576 -0.020731\n",
              "2015-01-06  0.000094 -0.023098\n",
              "2015-01-07  0.013925  0.010544\n",
              "2015-01-08  0.037703  0.006813\n",
              "...              ...       ...\n",
              "2020-07-17 -0.002022 -0.012724\n",
              "2020-07-20  0.020855  0.076308\n",
              "2020-07-21 -0.013898 -0.018485\n",
              "2020-07-22  0.002805 -0.012305\n",
              "2020-07-23 -0.046585 -0.037254\n",
              "\n",
              "[1399 rows x 2 columns]"
            ]
          },
          "metadata": {
            "tags": []
          },
          "execution_count": 5
        }
      ]
    },
    {
      "cell_type": "code",
      "metadata": {
        "id": "TwvcbgQoWfRd",
        "colab_type": "code",
        "colab": {
          "base_uri": "https://localhost:8080/",
          "height": 68
        },
        "outputId": "b67b28c5-ecd6-488f-da8e-7a87077e6b29"
      },
      "source": [
        "#Calculate the average daily return rate and annualise this value\n",
        "annual_return = return_daily.mean() * 250\n",
        "annual_return"
      ],
      "execution_count": null,
      "outputs": [
        {
          "output_type": "execute_result",
          "data": {
            "text/plain": [
              "AAPL    0.234728\n",
              "AMZN    0.405953\n",
              "dtype: float64"
            ]
          },
          "metadata": {
            "tags": []
          },
          "execution_count": 6
        }
      ]
    },
    {
      "cell_type": "code",
      "metadata": {
        "id": "aH5Zz_LNWvEL",
        "colab_type": "code",
        "colab": {
          "base_uri": "https://localhost:8080/",
          "height": 111
        },
        "outputId": "0434b572-076a-4076-9449-074c277306f4"
      },
      "source": [
        "#Step 4 - calculate the daily covariance of the stocks and annualise this value\n",
        "annual_cov = return_daily.cov()*250\n",
        "annual_cov"
      ],
      "execution_count": null,
      "outputs": [
        {
          "output_type": "execute_result",
          "data": {
            "text/html": [
              "<div>\n",
              "<style scoped>\n",
              "    .dataframe tbody tr th:only-of-type {\n",
              "        vertical-align: middle;\n",
              "    }\n",
              "\n",
              "    .dataframe tbody tr th {\n",
              "        vertical-align: top;\n",
              "    }\n",
              "\n",
              "    .dataframe thead th {\n",
              "        text-align: right;\n",
              "    }\n",
              "</style>\n",
              "<table border=\"1\" class=\"dataframe\">\n",
              "  <thead>\n",
              "    <tr style=\"text-align: right;\">\n",
              "      <th></th>\n",
              "      <th>AAPL</th>\n",
              "      <th>AMZN</th>\n",
              "    </tr>\n",
              "  </thead>\n",
              "  <tbody>\n",
              "    <tr>\n",
              "      <th>AAPL</th>\n",
              "      <td>0.080875</td>\n",
              "      <td>0.046479</td>\n",
              "    </tr>\n",
              "    <tr>\n",
              "      <th>AMZN</th>\n",
              "      <td>0.046479</td>\n",
              "      <td>0.092137</td>\n",
              "    </tr>\n",
              "  </tbody>\n",
              "</table>\n",
              "</div>"
            ],
            "text/plain": [
              "          AAPL      AMZN\n",
              "AAPL  0.080875  0.046479\n",
              "AMZN  0.046479  0.092137"
            ]
          },
          "metadata": {
            "tags": []
          },
          "execution_count": 7
        }
      ]
    },
    {
      "cell_type": "code",
      "metadata": {
        "id": "OrNtTz7sW9AZ",
        "colab_type": "code",
        "colab": {
          "base_uri": "https://localhost:8080/",
          "height": 34
        },
        "outputId": "1b33a150-f422-4658-8c4f-dc1ffd2c9910"
      },
      "source": [
        "#Step 5 - create a variable to display the number of stocks in the 'stocks' list\n",
        "  #This will mean that more stock tickers can be included, without having to change the code that follows.\"\"\"\n",
        "number_stocks = len(stocks)\n",
        "number_stocks"
      ],
      "execution_count": null,
      "outputs": [
        {
          "output_type": "execute_result",
          "data": {
            "text/plain": [
              "2"
            ]
          },
          "metadata": {
            "tags": []
          },
          "execution_count": 8
        }
      ]
    },
    {
      "cell_type": "code",
      "metadata": {
        "id": "dkBC-am_XTSK",
        "colab_type": "code",
        "colab": {
          "base_uri": "https://localhost:8080/",
          "height": 34
        },
        "outputId": "41edf3e7-863f-4812-fdeb-ccd63b4a199a"
      },
      "source": [
        "# Step 6 - Randomly generate weights for the stocks within the portfolio\n",
        "  #Ensure that the weights always sum to 1.\n",
        "pfolio_weights = np.random.random(number_stocks)\n",
        "pfolio_weights /= np.sum(pfolio_weights)\n",
        "pfolio_weights"
      ],
      "execution_count": null,
      "outputs": [
        {
          "output_type": "execute_result",
          "data": {
            "text/plain": [
              "array([0.02895154, 0.97104846])"
            ]
          },
          "metadata": {
            "tags": []
          },
          "execution_count": 9
        }
      ]
    },
    {
      "cell_type": "code",
      "metadata": {
        "id": "xPrgXBgqX9OX",
        "colab_type": "code",
        "colab": {}
      },
      "source": [
        "#Step 7 - create empty lists to collect the portfolio returns and volatility data\n",
        "pfolio_returns = []\n",
        "pfolio_volatilities = []"
      ],
      "execution_count": null,
      "outputs": []
    },
    {
      "cell_type": "code",
      "metadata": {
        "id": "_hV8k_y5YW3z",
        "colab_type": "code",
        "colab": {}
      },
      "source": [
        "#Step 8 - create a variable to dictate the number of portfolios that will be simulated\n",
        "  #This value can be changed.\n",
        "number_pfolios = 10000"
      ],
      "execution_count": null,
      "outputs": []
    },
    {
      "cell_type": "code",
      "metadata": {
        "id": "cDH15-eQYoJv",
        "colab_type": "code",
        "colab": {}
      },
      "source": [
        "#Step 9 - use iterations to efficiently obtain the portfolio returns and weights and transform the lists into Numpy arrays.\n",
        "for p in range(number_pfolios):\n",
        "  pfolio_weights = np.random.random(number_stocks)\n",
        "  pfolio_weights /= np.sum(pfolio_weights)\n",
        "  pfolio_returns.append(np.sum(pfolio_weights*return_daily.mean())*250)\n",
        "  pfolio_volatilities.append(np.sqrt(np.dot(pfolio_weights.T,np.dot(annual_cov,pfolio_weights))))\n",
        "pfolio_returns = np.array(pfolio_returns)\n",
        "pfolio_volatilities = np.array(pfolio_volatilities)"
      ],
      "execution_count": null,
      "outputs": []
    },
    {
      "cell_type": "code",
      "metadata": {
        "id": "Y9IiFOava3mI",
        "colab_type": "code",
        "colab": {
          "base_uri": "https://localhost:8080/",
          "height": 34
        },
        "outputId": "9b419e4e-5013-4e02-960e-c25b5fd51b2d"
      },
      "source": [
        "#CHECK - check the number of entries in the portfolio return array.\n",
        "len(pfolio_returns)"
      ],
      "execution_count": null,
      "outputs": [
        {
          "output_type": "execute_result",
          "data": {
            "text/plain": [
              "10000"
            ]
          },
          "metadata": {
            "tags": []
          },
          "execution_count": 13
        }
      ]
    },
    {
      "cell_type": "code",
      "metadata": {
        "id": "UA7QQP6GbCMA",
        "colab_type": "code",
        "colab": {
          "base_uri": "https://localhost:8080/",
          "height": 34
        },
        "outputId": "730eaad4-b4cd-42ae-fd38-b8c9c22b2705"
      },
      "source": [
        "#CHECK - check the number of entries in the portfolio volatility array.\n",
        "len(pfolio_volatilities)"
      ],
      "execution_count": null,
      "outputs": [
        {
          "output_type": "execute_result",
          "data": {
            "text/plain": [
              "10000"
            ]
          },
          "metadata": {
            "tags": []
          },
          "execution_count": 14
        }
      ]
    },
    {
      "cell_type": "code",
      "metadata": {
        "id": "wywU9J21bLLB",
        "colab_type": "code",
        "colab": {
          "base_uri": "https://localhost:8080/",
          "height": 419
        },
        "outputId": "0792f019-ecae-434d-f670-be9b507c8a16"
      },
      "source": [
        "# Step 10 - create a dictionary containing the portfolio returns and volatilities entries\n",
        "  #Structure this dictionary as a data frame to view the values together.\n",
        "portfolio_data = pd.DataFrame({'Return': pfolio_returns, 'Volatility' : pfolio_volatilities})\n",
        "portfolio_data"
      ],
      "execution_count": null,
      "outputs": [
        {
          "output_type": "execute_result",
          "data": {
            "text/html": [
              "<div>\n",
              "<style scoped>\n",
              "    .dataframe tbody tr th:only-of-type {\n",
              "        vertical-align: middle;\n",
              "    }\n",
              "\n",
              "    .dataframe tbody tr th {\n",
              "        vertical-align: top;\n",
              "    }\n",
              "\n",
              "    .dataframe thead th {\n",
              "        text-align: right;\n",
              "    }\n",
              "</style>\n",
              "<table border=\"1\" class=\"dataframe\">\n",
              "  <thead>\n",
              "    <tr style=\"text-align: right;\">\n",
              "      <th></th>\n",
              "      <th>Return</th>\n",
              "      <th>Volatility</th>\n",
              "    </tr>\n",
              "  </thead>\n",
              "  <tbody>\n",
              "    <tr>\n",
              "      <th>0</th>\n",
              "      <td>0.341260</td>\n",
              "      <td>0.262800</td>\n",
              "    </tr>\n",
              "    <tr>\n",
              "      <th>1</th>\n",
              "      <td>0.355635</td>\n",
              "      <td>0.268729</td>\n",
              "    </tr>\n",
              "    <tr>\n",
              "      <th>2</th>\n",
              "      <td>0.329231</td>\n",
              "      <td>0.259409</td>\n",
              "    </tr>\n",
              "    <tr>\n",
              "      <th>3</th>\n",
              "      <td>0.317428</td>\n",
              "      <td>0.257535</td>\n",
              "    </tr>\n",
              "    <tr>\n",
              "      <th>4</th>\n",
              "      <td>0.306594</td>\n",
              "      <td>0.257108</td>\n",
              "    </tr>\n",
              "    <tr>\n",
              "      <th>...</th>\n",
              "      <td>...</td>\n",
              "      <td>...</td>\n",
              "    </tr>\n",
              "    <tr>\n",
              "      <th>9995</th>\n",
              "      <td>0.307791</td>\n",
              "      <td>0.257094</td>\n",
              "    </tr>\n",
              "    <tr>\n",
              "      <th>9996</th>\n",
              "      <td>0.236270</td>\n",
              "      <td>0.283305</td>\n",
              "    </tr>\n",
              "    <tr>\n",
              "      <th>9997</th>\n",
              "      <td>0.399125</td>\n",
              "      <td>0.297696</td>\n",
              "    </tr>\n",
              "    <tr>\n",
              "      <th>9998</th>\n",
              "      <td>0.294215</td>\n",
              "      <td>0.258143</td>\n",
              "    </tr>\n",
              "    <tr>\n",
              "      <th>9999</th>\n",
              "      <td>0.302566</td>\n",
              "      <td>0.257267</td>\n",
              "    </tr>\n",
              "  </tbody>\n",
              "</table>\n",
              "<p>10000 rows × 2 columns</p>\n",
              "</div>"
            ],
            "text/plain": [
              "        Return  Volatility\n",
              "0     0.341260    0.262800\n",
              "1     0.355635    0.268729\n",
              "2     0.329231    0.259409\n",
              "3     0.317428    0.257535\n",
              "4     0.306594    0.257108\n",
              "...        ...         ...\n",
              "9995  0.307791    0.257094\n",
              "9996  0.236270    0.283305\n",
              "9997  0.399125    0.297696\n",
              "9998  0.294215    0.258143\n",
              "9999  0.302566    0.257267\n",
              "\n",
              "[10000 rows x 2 columns]"
            ]
          },
          "metadata": {
            "tags": []
          },
          "execution_count": 15
        }
      ]
    },
    {
      "cell_type": "code",
      "metadata": {
        "id": "Q7zR64ZPbv97",
        "colab_type": "code",
        "colab": {
          "base_uri": "https://localhost:8080/",
          "height": 312
        },
        "outputId": "2949f56b-6d38-4c3b-a659-1d010a2eb489"
      },
      "source": [
        "#Step 11 - Visualise the portfolio entries to obtain the efficient frontier\n",
        "portfolio_data.plot(x = 'Volatility', y = 'Return', kind = 'scatter', color = 'red' )\n",
        "plt.title('Efficient Frontier')\n",
        "plt.xlabel('Expected Volatility')\n",
        "plt.ylabel('Expected Return')"
      ],
      "execution_count": null,
      "outputs": [
        {
          "output_type": "execute_result",
          "data": {
            "text/plain": [
              "Text(0, 0.5, 'Expected Return')"
            ]
          },
          "metadata": {
            "tags": []
          },
          "execution_count": 16
        },
        {
          "output_type": "display_data",
          "data": {
            "image/png": "[encoded data removed]",
            "text/plain": [
              "<Figure size 432x288 with 1 Axes>"
            ]
          },
          "metadata": {
            "tags": [],
            "needs_background": "light"
          }
        }
      ]
    },
    {
      "cell_type": "markdown",
      "metadata": {
        "id": "e6z6MU9quXfA",
        "colab_type": "text"
      },
      "source": [
        "The result displays the expected volatility and expected return rate from different combinations of the two stocks. This can be used to help investors make better decisions in choosing how much capital to allocate to each each stock when constructing a portfolio. "
      ]
    },
    {
      "cell_type": "markdown",
      "metadata": {
        "id": "WpYNwdQ0b8Uw",
        "colab_type": "text"
      },
      "source": [
        ""
      ]
    }
  ]
}